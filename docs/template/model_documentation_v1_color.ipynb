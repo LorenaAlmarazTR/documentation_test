{
 "cells": [
  {
   "cell_type": "markdown",
   "id": "633494b6",
   "metadata": {
    "deletable": false,
    "editable": false
   },
   "source": [
    "<div style=\"text-align: right; font-style:italic\"> Thomson Reuters; Internal Use; v1.0; Document Reference Number: MGPR003 </div>\n"
   ]
  },
  {
   "cell_type": "markdown",
   "id": "4ab6b5e5",
   "metadata": {
    "deletable": false,
    "editable": false
   },
   "source": [
    "# Model Documentation"
   ]
  },
  {
   "cell_type": "markdown",
   "id": "2ba5bc6a",
   "metadata": {
    "deletable": false,
    "editable": false
   },
   "source": [
    "| Section | Responsibility | Timing (earliest) |\n",
    "| --- | --- | --- |\n",
    "| [1. Model Identification Information](#model_identif) | Model Owner or Model Developer | Problem Statement |\n",
    "| [2. Business Purpose and Intended Use](#business_purp) | Model Owner primarily, with input from Model Developer| Problem Statement |\n",
    "| [3. Third Party Model Details](#third_party) | Model Owner and/or Model Developer | Model Development |\n",
    "| [4. Ethics Considerations](#ethics) | Model Owner and/or Model Developer | Problem Statement |\n",
    "| [5. Model Inputs](#model_input) | Model Developer | Data Acquisition and Preprocessing |\n",
    "| [6. Model Design and Conceptual Soundness](#model_design) | Model Developer | Model Development |\n",
    "| [7. Model Development](#model_train) | Model Developer | Model Development |\n",
    "| [8. Model Deployment](#model_deploy) | Model Developer primarily, with input from ML Engineer | Model Development (after evaluation) |\n",
    "| [9. Model Monitoring](#model_monitor) | Model Developer and Model Owner | Model Development (after evaluation) |\n",
    "| [10. Appendix](#appendix) | n/a | n/a |\n"
   ]
  },
  {
   "cell_type": "markdown",
   "id": "f1619f83",
   "metadata": {
    "deletable": false,
    "editable": false
   },
   "source": [
    "## 1. Model Identification Information <a class=\"anchor\" id=\"model_identif\"></a>"
   ]
  },
  {
   "cell_type": "markdown",
   "id": "9b5ef9cd",
   "metadata": {
    "deletable": false,
    "editable": false
   },
   "source": [
    "| Responsibility | Timing (earliest) | Relevant Standard |\n",
    "| --- | --- | --- |\n",
    "| Model Owner or Model Developer | Problem Statement | Model Identification Standard (available at [this](https://trten.sharepoint.com/sites/intr-data-model-governance/SitePages/Data-%26-Model-Governance-(DMG)-Policies-%26-Standards.aspx) Atrium site) |"
   ]
  },
  {
   "cell_type": "markdown",
   "id": "4c6bd10f",
   "metadata": {
    "deletable": false,
    "editable": false
   },
   "source": [
    "<div style=\"background-color:#EBEBEB\">\n",
    "    \n",
    "<span style='background:orange'>**Model Name** </span>   \n",
    "Please refer to the *Model Name* field on the [Model Registry](https://contentconsole.thomsonreuters.com/machine-learning/registry/models) (used as primary key).  \n",
    "<div style=\"text-align: right; font-style:italic\"> (tag: model_name) </div>"
   ]
  },
  {
   "cell_type": "markdown",
   "id": "model_id",
   "metadata": {
    "section_id": "model_name"
   },
   "source": []
  },
  {
   "cell_type": "markdown",
   "id": "198a3356",
   "metadata": {
    "deletable": false,
    "editable": false
   },
   "source": [
    "<div style=\"background-color:#EBEBEB\">\n",
    "\n",
    "<span style='background:orange'>**Version Tag** </span>   \n",
    "Please refer to the *Version Tag* field on the [Model Registry](https://contentconsole.thomsonreuters.com/machine-learning/registry/models) (used as primary key).\n",
    "<div style=\"text-align: right; font-style:italic\"> (tag: version_tag) </div>"
   ]
  },
  {
   "cell_type": "markdown",
   "id": "version_id",
   "metadata": {
    "section_id": "version_tag"
   },
   "source": []
  },
  {
   "cell_type": "markdown",
   "id": "1cee6886",
   "metadata": {
    "deletable": false,
    "editable": false
   },
   "source": [
    "<div style=\"background-color:#EBEBEB\">\n",
    "\n",
    "<span style='background:orange'>**Author(s)** </span>   \n",
    "TR email addresses for authors. Please separate via ';'.\n",
    "<div style=\"text-align: right; font-style:italic\"> (tag: authors) </div>"
   ]
  },
  {
   "cell_type": "markdown",
   "id": "authors",
   "metadata": {
    "section_id": "authors"
   },
   "source": []
  },
  {
   "cell_type": "markdown",
   "id": "d9efde26",
   "metadata": {
    "deletable": false,
    "editable": false
   },
   "source": [
    "***"
   ]
  },
  {
   "cell_type": "markdown",
   "id": "7c3061b3",
   "metadata": {
    "deletable": false,
    "editable": false
   },
   "source": [
    "## 2. Business Purpose and Intended Use <a class=\"anchor\" id=\"business_purp\"></a>"
   ]
  },
  {
   "cell_type": "markdown",
   "id": "1d5a72e7",
   "metadata": {
    "deletable": false,
    "editable": false
   },
   "source": [
    "| Responsibility | Timing (earliest) | Relevant Standard |\n",
    "| --- | --- | --- |\n",
    "| Model Owner primarily, with input from Model Developer  | Problem Statement | n/a |\n",
    " \n",
    "Please update concise, simple, non-technical, high-level overview of the model. The intended audience includes individuals/teams not well versed in Data Science and Model Development, as well as Senior Executives at TR.  "
   ]
  },
  {
   "cell_type": "markdown",
   "id": "3cb86e41",
   "metadata": {
    "deletable": false,
    "editable": false
   },
   "source": [
    "<div style=\"background-color:#EBEBEB\">\n",
    "\n",
    "<span style='background:orange'> **Business Case, Modelling Approach, and Solution Summary**   </span>  \n",
    "Please provide a summary of the business problem being addressed and how the model will address this intended purpose. This should include an overview of the model’s functionality within the context of the TR product or internal TR function. If applicable, comment on the interaction with other models (e.g., is the input for this model derived from outputs of other model(s), or is the model output used as input by other models?).\n",
    "<div style=\"text-align: right; font-style:italic\"> (tag: business_case) </div>\n"
   ]
  },
  {
   "cell_type": "markdown",
   "id": "f52c945a",
   "metadata": {
    "section_id": "business_case"
   },
   "source": []
  },
  {
   "cell_type": "markdown",
   "id": "8764866b",
   "metadata": {
    "deletable": false,
    "editable": false
   },
   "source": [
    "<div style=\"background-color:#EBEBEB\">\n",
    "\n",
    "<span style='background:orange'> **High Level Summary of Assumptions, Limitations and Risks** </span>  \n",
    "Summarize key assumptions, limitations, risks (incl. overall Model Risk Rating - Low/Medium/High - as per Model Risk Assessment), and any aspects known to be out-of-scope for the model.\n",
    "<div style=\"text-align: right; font-style:italic\"> (tag: assumptions_risks) </div>"
   ]
  },
  {
   "cell_type": "markdown",
   "id": "7fe98a9e",
   "metadata": {
    "section_id": "assumptions_risks"
   },
   "source": []
  },
  {
   "cell_type": "markdown",
   "id": "14d6b7b2",
   "metadata": {
    "deletable": false,
    "editable": false
   },
   "source": [
    "***"
   ]
  },
  {
   "cell_type": "markdown",
   "id": "cad12e98",
   "metadata": {
    "deletable": false,
    "editable": false
   },
   "source": [
    "## 3. Third Party Model Details <a class=\"anchor\" id=\"third_party\"></a>"
   ]
  },
  {
   "cell_type": "markdown",
   "id": "2352c0af",
   "metadata": {
    "deletable": false,
    "editable": false
   },
   "source": [
    "**<ins>Note</ins>: This section is to be filled only in case of Third Party Models.**  \n",
    "\n",
    "| Responsibility | Timing (earliest) | Relevant Standard |\n",
    "| --- | --- | --- |\n",
    "| Model Owner and/or Model Developer  | Model Development | Third Party Model Management Standard (available at [this](https://trten.sharepoint.com/sites/intr-data-model-governance/SitePages/Data-%26-Model-Governance-(DMG)-Policies-%26-Standards.aspx) Atrium site)|\n"
   ]
  },
  {
   "cell_type": "markdown",
   "id": "a9264702",
   "metadata": {
    "deletable": false,
    "editable": false
   },
   "source": [
    "<div style=\"background-color:#EBEBEB\">\n",
    "\n",
    "<span style='background:orange'> **Rationale for Third Party Model Choice**   </span>  \n",
    "Rationale of using this Third Party Model to address the business purpose at TR. It should also include shortlisting, suitability, and selection criteria considered while finalizing this model / product / vendor for use at TR. When relevant, link to any external model documentation (including version(s) where possible).\n",
    "<div style=\"text-align: right; font-style:italic\"> (tag: thirdparty_rationale) </div>"
   ]
  },
  {
   "cell_type": "markdown",
   "id": "59d8e24f",
   "metadata": {
    "section_id": "thirdparty_rationale"
   },
   "source": []
  },
  {
   "cell_type": "markdown",
   "id": "4ec6c6c9",
   "metadata": {
    "deletable": false,
    "editable": false
   },
   "source": [
    "<div style=\"background-color:#EBEBEB\">\n",
    "\n",
    "<span style='background:orange'> **Continued Model Suitability**   </span>  \n",
    "Include, but need not be limited to, the following:\n",
    "* Details of re-training exercises that will be carried out by vendors for model components relevant to TR's business usage\n",
    "* Communication process for changes in usage criteria specified by the vendor, or to model assumptions, limitations, configuration/parametrization, or other relevant areas\n",
    "* <ins>Note</ins>: For <span style='color:red'> High Risk Rating models</span> (as per Model Risk Assessment), the re-assessment is recommended to be conducted at least every year and must feed into the internal TR Model Validation/Review process, as laid out in the Model Validation Standard (available at [this](https://trten.sharepoint.com/sites/intr-data-model-governance/SitePages/Data-%26-Model-Governance-(DMG)-Policies-%26-Standards.aspx) Atrium site).\n",
    "<div style=\"text-align: right; font-style:italic\"> (tag: thirdparty_suitability) </div>"
   ]
  },
  {
   "cell_type": "markdown",
   "id": "c6650198",
   "metadata": {
    "section_id": "thirdparty_suitability"
   },
   "source": []
  },
  {
   "cell_type": "markdown",
   "id": "7705134d",
   "metadata": {
    "deletable": false,
    "editable": false
   },
   "source": [
    "***"
   ]
  },
  {
   "cell_type": "markdown",
   "id": "3e700300",
   "metadata": {
    "deletable": false,
    "editable": false
   },
   "source": [
    "## 4. Ethics Considerations \n",
    "<a class=\"anchor\" id=\"ethics\"></a>"
   ]
  },
  {
   "cell_type": "markdown",
   "id": "6dd5602a",
   "metadata": {
    "deletable": false,
    "editable": false
   },
   "source": [
    "**<ins>Note</ins>: This section currently does not need to be filled.**  \n",
    "\n",
    "| Responsibility | Timing (earliest) | Relevant Standard |\n",
    "| --- | --- | --- |\n",
    "| Model Owner primarily, with input from Model Developer  | Problem Statement | Data & Model Ethics Standards (available at [this](https://trten.sharepoint.com/sites/intr-data-model-governance/SitePages/Data-%26-Model-Governance-(DMG)-Policies-%26-Standards.aspx) Atrium site)|"
   ]
  },
  {
   "cell_type": "markdown",
   "id": "bd694e0a",
   "metadata": {
    "deletable": false,
    "editable": false
   },
   "source": [
    "<div style=\"background-color:#EBEBEB\">\n",
    "\n",
    "<span style='background:orange'> **Human Oversight Considerations**   </span>   \n",
    "1. What is the approach to Human Oversight for this model? (For example, extent of Human-in-the-loop, Human-in-command etc.)  \n",
    "2.\tIf Human Oversight is involved, please provide details of human involvement, such as role of individual and information on accessibility considerations where necessary.  \n",
    "3.\tIf Human Oversight is involved, what measures have been taken to avoid conflict of interest. \n",
    "4.\tIf Human Oversight is involved for <span style='color:red'> High Risk Rating models</span>, please provide details of the process for oversight, and contact emails of individuals responsible for Human Oversight. These could be team leads or the accountable individual.  \n"
   ]
  },
  {
   "cell_type": "markdown",
   "id": "92f64313",
   "metadata": {
    "deletable": false,
    "editable": false
   },
   "source": [
    "<div style=\"background-color:#EBEBEB\">\n",
    "\n",
    "<span style='background:orange'> **Automated Decision Standards Considerations**   </span>  \n",
    "1.\tIf the model is implemented in an automated decision making system, have users of the system been made aware of the same. For <span style='color:red'> High Risk Rating models</span>, please include evidence depicting the approach and process to ensure awareness to users.  \n",
    "2.\tIf the model is implemented in an automated decision making system, have mechanisms been established for subjects affected by the decisions to inquire about results.   \n",
    "3.\tWhat steps have been put in place for continuous evaluation of automated systems with embedded models."
   ]
  },
  {
   "cell_type": "markdown",
   "id": "f73e4636",
   "metadata": {
    "deletable": false,
    "editable": false
   },
   "source": [
    "<div style=\"background-color:#EBEBEB\">\n",
    "\n",
    "<span style='background:orange'> **Fairness Considerations**   </span>  \n",
    "1.\tHave model training datasets been analyzed for adequate inclusion of under-represented minority groups, sub-groups, or diverse groups?  \n",
    "2.\tIf Annotations were used, what measures were taken to ensure a competent, diverse, and multi-disciplinary team was involved in the Annotation exercise. \n",
    "3.\tFor <span style='color:red'> High Risk Rating models</span>, if annotations were involved, please provide evidence that diversity and representation of subjects in data was adequately analyzed. Please also include details of any relevant issues reported. \n",
    "4.\tHow were training datasets assessed for unintentional and ethical biases? What were mitigation strategies incorporated?  \n",
    "5.\tFor data used from high risk legacy data systems, has an assessment been performed to ensure unethical and unintentional biases do not carry over into the model?  \n",
    "6.\tWhat Bias detection methods are proposed for the model? For <span style='color:red'> High Risk Rating models</span>, please provide details of these methods.  \n",
    "7.\tPlease update viewpoints of Subject Matter Experts and populations impacted, to ensure diversity of perspective.  "
   ]
  },
  {
   "cell_type": "markdown",
   "id": "4d3550a3",
   "metadata": {
    "deletable": false,
    "editable": false
   },
   "source": [
    "<div style=\"background-color:#EBEBEB\">\n",
    "\n",
    "<span style='background:orange'> **Transparency in Data Management and Model Development Standard**   </span>   \n",
    "    \n",
    "1.\tWhat is the approach adopted to support visibility in the training data used for this model?  \n",
    "2.\tPlease update any limitation discovered in the model that is against the intended purpose and performance and/or that could negatively impact the end user.  \n",
    "3.\tWere discrepancies identified on the data lineage for this model use case? Please provide relevant details. \n",
    "4.\tWhat measures were adopted to ensure explainability and/or interpretability in the model? If no measure was adopted, please provide reasons.  \n",
    "5.\tHas the model been assessed for possible impact of wrong or limited outcome on potential end users and other third parties?  \n",
    "6.\tWhat measures have been adopted to mitigate or eliminate harmful impact?  \n",
    "7.\tAre team members able to access model documentation and respond to enquiries about data usage and model outputs?"
   ]
  },
  {
   "cell_type": "markdown",
   "id": "ef63ad00",
   "metadata": {
    "deletable": false,
    "editable": false
   },
   "source": [
    "<div style=\"background-color:#EBEBEB\">\n",
    "\n",
    "<span style='background:orange'> **Ethics by Design Standard**   </span>  \n",
    "1.\tWhen working with third party data processors and service providers, you must verify that data and model ethics considerations are in place within their organization, that align with TR Data and AI Ethics Principles.  \n",
    "2.\tIn  the  design,  development and  deployment  of data-driven  technologies,  stakeholders  must consider the  impact  on environmental  wellbeing  and  sustainability, and  ensure that only  the necessary resources, including energy and materials, are used.  \n",
    "3.\tThe  concept  of  Ethics  by  Default must  be  incorporated into the  design,  development, and deployment of  data-driven technologies, this  includes data  minimization and  deidentification practices, privacy as a default setting, and purpose and use alignment."
   ]
  },
  {
   "cell_type": "markdown",
   "id": "bc65899e",
   "metadata": {
    "deletable": false,
    "editable": false
   },
   "source": [
    "***"
   ]
  },
  {
   "cell_type": "markdown",
   "id": "07baef40",
   "metadata": {
    "deletable": false,
    "editable": false
   },
   "source": [
    "## 5. Model Inputs <a class=\"anchor\" id=\"model_input\"></a>"
   ]
  },
  {
   "cell_type": "markdown",
   "id": "8bbd824b",
   "metadata": {
    "deletable": false,
    "editable": false
   },
   "source": [
    "| Responsibility | Timing (earliest) | Relevant Standard |\n",
    "| --- | --- | --- |\n",
    "| Model Developer(s)   | Data Acquisition and Preprocessing | Model Design and Development Standard (available at [this](https://trten.sharepoint.com/sites/intr-data-model-governance/SitePages/Data-%26-Model-Governance-(DMG)-Policies-%26-Standards.aspx) Atrium site)|"
   ]
  },
  {
   "cell_type": "markdown",
   "id": "380167f2",
   "metadata": {
    "deletable": false,
    "editable": false
   },
   "source": [
    "<div style=\"background-color:#EBEBEB\">\n",
    "\n",
    "<span style='background:orange'> **Data Source(s), Datasets and Attributes**   </span>   \n",
    "Describe the data source(s) used to develop and train the model, including but not limited to the following:\n",
    "*\tData description of all relevant datasets and attributes used as model inputs\n",
    "    *\tFor both the *Development* and *Live* version statuses\n",
    "    *\tShould include, but need not be limited to, dataset name, attributes, and ownership details (preferably by referencing relevant source files)\n",
    "*\tDetails of external and/or customer data\n",
    "*\tTime period(s) covered by the training data \n",
    "*\tAny differences between training data and data for intended use in production\n",
    "*\tIdentify and describe any proxies used (e.g., silver data)\n",
    "*\tInclude a summary of any PII or sensitive data/variables used in the development of the model.\n",
    "*\tWhere applicable, provide details of annotation tasks to collect data, including annotation guidelines and methods for quality control\n",
    "*\tPlease include links to data sources where available, along with directions to request access to the data where required\n",
    "<div style=\"text-align: right; font-style:italic\"> (tag: data_source) </div>\n"
   ]
  },
  {
   "cell_type": "code",
   "execution_count": null,
   "id": "3ef0db71",
   "metadata": {
    "section_id": "data_source"
   },
   "outputs": [],
   "source": []
  },
  {
   "cell_type": "code",
   "execution_count": null,
   "id": "5188a14a",
   "metadata": {
    "section_id": "data_source"
   },
   "outputs": [],
   "source": []
  },
  {
   "cell_type": "markdown",
   "id": "0564ea66",
   "metadata": {
    "deletable": false,
    "editable": false
   },
   "source": [
    "<div style=\"background-color:#EBEBEB\">\n",
    "\n",
    "<span style='background:orange'> **Data Analysis**  </span>   \n",
    "Please include details of:\n",
    "*\tData Quality (missing values, duplicates)\n",
    "*\tDescriptive statistics of data\n",
    "*\tDetails of data completeness and accuracy, limitations, availability, and any assumptions  \n",
    "\n",
    "Preferably reference to relevant source files. If large files are referenced, then please add an indicator to the location in the file where the relevant information is available. For example, for ipynb notebook include the section title(s) or cell number(s).\n",
    "<div style=\"text-align: right; font-style:italic\"> (tag: data_analysis) </div>"
   ]
  },
  {
   "cell_type": "code",
   "execution_count": null,
   "id": "94eb9f65",
   "metadata": {
    "section_id": "data_analysis"
   },
   "outputs": [],
   "source": []
  },
  {
   "cell_type": "code",
   "execution_count": null,
   "id": "fe276695",
   "metadata": {
    "section_id": "data_analysis"
   },
   "outputs": [],
   "source": []
  },
  {
   "cell_type": "markdown",
   "id": "6470771d",
   "metadata": {
    "deletable": false,
    "editable": false
   },
   "source": [
    "<div style=\"background-color:#EBEBEB\">\n",
    "\n",
    "<span style='background:orange'> **Data Pre-Processing** </span>  \n",
    "Please describe details of pre-processing steps and steps taken to address data quality (if any). Please include the location of final data files, after pre-processing, along with directions to request access to the data where required.  \n",
    "<div style=\"text-align: right; font-style:italic\"> (tag: data_preprocessing) </div>"
   ]
  },
  {
   "cell_type": "code",
   "execution_count": null,
   "id": "06c5d5d7",
   "metadata": {
    "section_id": "data_preprocessing"
   },
   "outputs": [],
   "source": []
  },
  {
   "cell_type": "code",
   "execution_count": null,
   "id": "bbcbe76f",
   "metadata": {
    "section_id": "data_preprocessing"
   },
   "outputs": [],
   "source": []
  },
  {
   "cell_type": "markdown",
   "id": "d281d15e",
   "metadata": {
    "deletable": false,
    "editable": false
   },
   "source": [
    "***"
   ]
  },
  {
   "cell_type": "markdown",
   "id": "c3853184",
   "metadata": {
    "deletable": false,
    "editable": false
   },
   "source": [
    "## 6. Model Design and Conceptual Soundness \n",
    "<a class=\"anchor\" id=\"model_design\"></a>"
   ]
  },
  {
   "cell_type": "markdown",
   "id": "ca4cdf69",
   "metadata": {
    "deletable": false,
    "editable": false
   },
   "source": [
    "| Responsibility | Timing (earliest) | Relevant Standard |\n",
    "| --- | --- | --- |\n",
    "| Model Developer(s) | Model Development | Model Design and Development Standard (available at this [this](https://trten.sharepoint.com/sites/intr-data-model-governance/SitePages/Data-%26-Model-Governance-(DMG)-Policies-%26-Standards.aspx) Atrium site)|"
   ]
  },
  {
   "cell_type": "markdown",
   "id": "621ad31f",
   "metadata": {
    "deletable": false,
    "editable": false
   },
   "source": [
    "<div style=\"background-color:#EBEBEB\">\n",
    "\n",
    "<span style='background:orange'> **Model Design Summary and Methodology Selection Details**  </span>  \n",
    "\n",
    "Please describe the development approach taken to address the business problem. \n",
    "*\tProvide a description of the model structure, parameters, hyperparameters and methodology used.\n",
    "*\tSelection of the algorithm and how the model is trained (i.e., modelling approach)\n",
    "*\tSelection of inputs/features and feature engineering/transformation process (if applicable)\n",
    "*\tModel assumptions (if applicable), and/or business assumptions\n",
    "*\tChoice of target variables (is the target representing business intent directly or is it a proxy?) \n",
    "*\tWhere relevant, please provide details of all upstream and downstream dependencies on each of the component models\n",
    "*\tFor <span style='color:red'> High Risk Rating models</span>, please include:\n",
    "    *\tDetails of any other methodologies that were considered, and rationale for not selecting those\n",
    "<div style=\"text-align: right; font-style:italic\"> (tag: model_design) </div>"
   ]
  },
  {
   "cell_type": "code",
   "execution_count": null,
   "id": "d2903fc3",
   "metadata": {
    "section_id": "model_design"
   },
   "outputs": [],
   "source": []
  },
  {
   "cell_type": "markdown",
   "id": "f2f65c34",
   "metadata": {
    "deletable": false,
    "editable": false
   },
   "source": [
    "<div style=\"background-color:#EBEBEB\">\n",
    "\n",
    "<span style='background:orange'> **Peer Review Details, Supporting Academic Literature and Industry Practices**  </span>  \n",
    "Please provide rationale supporting the choice of methodology/algorithm, and details where possible, of peer review, published research and sound industry practice.  \n",
    "<div style=\"text-align: right; font-style:italic\"> (tag: review_literature) </div>"
   ]
  },
  {
   "cell_type": "code",
   "execution_count": null,
   "id": "485cb86f",
   "metadata": {
    "section_id": "review_literature"
   },
   "outputs": [],
   "source": []
  },
  {
   "cell_type": "markdown",
   "id": "9e6380f2",
   "metadata": {
    "deletable": false,
    "editable": false
   },
   "source": [
    "***"
   ]
  },
  {
   "cell_type": "markdown",
   "id": "b64d9ae5",
   "metadata": {
    "deletable": false,
    "editable": false
   },
   "source": [
    "## 7. Model Development \n",
    "<a class=\"anchor\" id=\"model_train\"></a>"
   ]
  },
  {
   "cell_type": "markdown",
   "id": "64fb3ab9",
   "metadata": {
    "deletable": false,
    "editable": false
   },
   "source": [
    "| Responsibility | Timing (earliest) | Relevant Standard |\n",
    "| --- | --- | --- |\n",
    "| Model Developer(s) in conjunction with the Model Owner or delegate responsible for completing the DIA  | Model Development | n/a|"
   ]
  },
  {
   "cell_type": "markdown",
   "id": "4774c364",
   "metadata": {
    "deletable": false,
    "editable": false
   },
   "source": [
    "<div style=\"background-color:#EBEBEB\">\n",
    "\n",
    "<span style='background:orange'> **Model Training and Testing Approach**  </span>   \n",
    "Please provide details of testing results highlighting where the results are acceptable and meet business expectations. These could include the following:\n",
    "*\tModel performance testing approach\n",
    "*   Train/test split details\n",
    "*\tStability and robustness analysis (e.g., model behavior on edge cases) \n",
    "*\tBenchmarking / challenger models i.e., comparison with alternative models (strong baselines or significant methods explored during development)\n",
    "*\tDescription of the model output. Please also include details on explainability, i.e.  in simple layman terms, how the model reached its conclusion/decision from the input data. Model feature importance, if relevant.\n",
    "<div style=\"text-align: right; font-style:italic\"> (tag: model_traintest) </div>\n",
    "\n"
   ]
  },
  {
   "cell_type": "code",
   "execution_count": null,
   "id": "1a3e2f24",
   "metadata": {
    "section_id": "model_traintest"
   },
   "outputs": [],
   "source": []
  },
  {
   "cell_type": "code",
   "execution_count": null,
   "id": "0029dbda",
   "metadata": {
    "section_id": "model_traintest"
   },
   "outputs": [],
   "source": []
  },
  {
   "cell_type": "markdown",
   "id": "cca9ad06",
   "metadata": {
    "deletable": false,
    "editable": false
   },
   "source": [
    "<div style=\"background-color:#EBEBEB\">\n",
    "\n",
    "<span style='background:orange'>**Development Platform and Environments**  </span>   \n",
    "\n",
    "Please provide development environment details including the following:\n",
    "*\tPlatform used for development (e.g., Enterprise AI Platform, Workspace/S3 name & links) \n",
    "*\tWhere required please provide details of how access may be requested, along with eligibility for access to the above environments\n",
    "*\tPlease include the list of packages and microservices, along with the versions, used during model development, training, testing and any related tasks. Alternately, should this information be available in model source files, please provide the location and name and link to the same. Please include, where relevant, your requirements.txt file link here.\n",
    "<div style=\"text-align: right; font-style:italic\"> (tag: dev_platform) </div>"
   ]
  },
  {
   "cell_type": "code",
   "execution_count": null,
   "id": "4d001f8b",
   "metadata": {
    "section_id": "dev_platform"
   },
   "outputs": [],
   "source": []
  },
  {
   "cell_type": "markdown",
   "id": "e644c303",
   "metadata": {
    "deletable": false,
    "editable": false
   },
   "source": [
    "<div style=\"background-color:#EBEBEB\">\n",
    "\n",
    "<span style='background:orange'> **Business Overrides and Impact**</span>   \n",
    "Where relevant, please provide details of scenarios where business overrides will be used in place of model inferences and results.\n",
    "\n",
    "<ins>Example from TR Labs</ins>: TR Labs developed a model for selecting the most appropriate headnote (editorial summary) to display for cases (documents) in a search result list. Based on the model output and additional information about the case, the application (based on business rules) may change / override model decision, for instance display the second summary instead of the first one.  \n",
    "<div style=\"text-align: right; font-style:italic\"> (tag: business_overrides) </div>"
   ]
  },
  {
   "cell_type": "code",
   "execution_count": null,
   "id": "cac8de73",
   "metadata": {
    "section_id": "business_overrides"
   },
   "outputs": [],
   "source": []
  },
  {
   "cell_type": "markdown",
   "id": "a3bdd4dc",
   "metadata": {
    "deletable": false,
    "editable": false
   },
   "source": [
    "***"
   ]
  },
  {
   "cell_type": "markdown",
   "id": "41713fc1",
   "metadata": {
    "deletable": false,
    "editable": false
   },
   "source": [
    "## 8. Model Deployment \n",
    "<a class=\"anchor\" id=\"model_deploy\"></a>"
   ]
  },
  {
   "cell_type": "markdown",
   "id": "daa56546",
   "metadata": {
    "deletable": false,
    "editable": false
   },
   "source": [
    "| Responsibility | Timing (earliest) | Relevant Standard |\n",
    "| --- | --- | --- |\n",
    "| Model Developer primarily, with input from the MLOps/Engineering team   | Model Development (after evaluation) | Model Implementation Standard (available at [this](https://trten.sharepoint.com/sites/intr-data-model-governance/SitePages/Data-%26-Model-Governance-(DMG)-Policies-%26-Standards.aspx) Atrium site)|"
   ]
  },
  {
   "cell_type": "markdown",
   "id": "f7709675",
   "metadata": {
    "deletable": false,
    "editable": false
   },
   "source": [
    "<div style=\"background-color:#EBEBEB\">\n",
    "\n",
    "<span style='background:orange'> **Model Deployment Environment and Process Summary**</span>   \n",
    "Please describe the approach for deployment, including the following: \n",
    "*\tDetails of integration into the larger application or process, including high level system architecture where relevant\n",
    "*\tHow and when the model will be implemented into the production environment (timelines). \n",
    "*\tInfrastructure (technology stack, resources, systems, processes, access controls). If possible, diagrammatic representations showing how the model interacts with other components.\n",
    "*   Application/platform integration details and rationale for choices.\n",
    "*   Pre-deployment testing details, if available.\n",
    "*\tDetails of post-deployment and production support contacts, including SLAs where available.\n",
    "*\tFor <span style='color:red'> High Risk Rating models</span>, please include:\n",
    "    *\tRationale for implementation choices\n",
    "    *\tOverview of Change Management procedure for updates to model configuration, environment etc. (e.g., Responsible team and contacts, link to procedures etc.)\n",
    "    *\tDetails of pre-deployment testing, or a summary of unit/system/integration testing results (or a link to the same)\n",
    "<div style=\"text-align: right; font-style:italic\"> (tag: model_deployment) </div>"
   ]
  },
  {
   "cell_type": "code",
   "execution_count": null,
   "id": "441e45fe",
   "metadata": {
    "section_id": "model_deployment"
   },
   "outputs": [],
   "source": []
  },
  {
   "cell_type": "code",
   "execution_count": null,
   "id": "6d5c6603",
   "metadata": {
    "section_id": "model_deployment"
   },
   "outputs": [],
   "source": []
  },
  {
   "cell_type": "markdown",
   "id": "0acbbc88",
   "metadata": {
    "deletable": false,
    "editable": false
   },
   "source": [
    "***"
   ]
  },
  {
   "cell_type": "markdown",
   "id": "2a11ae58",
   "metadata": {
    "deletable": false,
    "editable": false
   },
   "source": [
    "## 9. Model Monitoring \n",
    "<a class=\"anchor\" id=\"model_monitor\"></a>"
   ]
  },
  {
   "cell_type": "markdown",
   "id": "6f304c1d",
   "metadata": {
    "deletable": false,
    "editable": false
   },
   "source": [
    "| Responsibility | Timing (earliest) | Relevant Standard |\n",
    "| --- | --- | --- |\n",
    "| Model Developers, in conjunction with the Model Owner and Model Usage Contact(s)   | Model Development (after evaluation) | Model Monitoring Standard (available at [this](https://trten.sharepoint.com/sites/intr-data-model-governance/SitePages/Data-%26-Model-Governance-(DMG)-Policies-%26-Standards.aspx) Atrium site)|"
   ]
  },
  {
   "cell_type": "markdown",
   "id": "3ee834a9",
   "metadata": {
    "deletable": false,
    "editable": false
   },
   "source": [
    "<div style=\"background-color:#EBEBEB\">\n",
    "\n",
    "<span style='background:orange'> **Metric Definitions and Thresholds**</span>   \n",
    "\n",
    "Please update the detailed definitions for each metric associated with all performance expectations, preferably using the JSON representation below. Including:\n",
    "*\tList of all performance expectations, including those related to ethics assessments/monitoring \n",
    "*\tMetric details for each performance expectation (incl. rationale)\n",
    "*\tBaseline and thresholds for each metric (incl. rationale)\n",
    "\n",
    "| Performance Expectation | Description | \n",
    "| --- | --- | \n",
    "| Metric Name | Name of the chosen metric (e.g., accuracy, recall) |\n",
    "| Description | Description of how the metric is calculated |\n",
    "| Type | Indication whether this an objective or subjective metric |\n",
    "| Units of Measurement | For objective metrics: Units in which the metric is measured.<br /> For subjective metrics: Decision criteria |\n",
    "| Baseline Value | Baseline performance, typically calculated on the test set |\n",
    "| Threshold Value | Threshold value used for notifications, applicable post-deployment |\n",
    "| Comparison Operator | LessThanThreshold or MoreThanThreshold |\n",
    "| Rationale for the Metric | Brief description indicating why the metric was chosen |\n",
    "| Rationale for the Threshold | Brief description indicating why the threshold was chosen |\n",
    "\n",
    "An example JSON representation is shown below.\n",
    "```\n",
    "{\n",
    "  \"model_name\": \"model_name_from_registry\",\n",
    "  \"version_tag\": \"version_tag_from_registry\",\n",
    "  \"performance_expectations\": [\n",
    "    {\n",
    "      \"metric\": \"accuracy\", \n",
    "      \"description\": \"as calculated by sklearn\",\n",
    "      \"type\": \"objective\",\n",
    "      \"units\": \"numeric\",\n",
    "      \"baseline_value\": \"0.91\",\n",
    "      \"threshold_value\": \"0.84\",\n",
    "      \"comparison_operator\": \"LessThanThreshold\",\n",
    "      \"rationale_metric\": \"...\",\n",
    "      \"rationale_threshold\": \"...\"\n",
    "    },\n",
    "    {\n",
    "      \"metric\": \"recall\",\n",
    "      \"description\": \"as calculated by sklearn\",\n",
    "      \"type\": \"objective\",\n",
    "      \"units\": \"numeric\",\n",
    "      \"baseline_value\": \"0.69\",\n",
    "      \"threshold_value\": \"0.66\",\n",
    "      \"comparison_operator\": \"LessThanThreshold\",\n",
    "      \"rationale_metric\": \"...\",\n",
    "      \"rationale_threshold\": \"...\"\n",
    "    }\n",
    "]\n",
    "}\n",
    "```    \n",
    "\n",
    "<div style=\"text-align: right; font-style:italic\"> (tag: monitoring_metrics) </div>"
   ]
  },
  {
   "cell_type": "code",
   "execution_count": null,
   "id": "457e9ed0",
   "metadata": {
    "section_id": "monitoring_metrics"
   },
   "outputs": [],
   "source": []
  },
  {
   "cell_type": "code",
   "execution_count": null,
   "id": "35dfad55",
   "metadata": {
    "section_id": "monitoring_metrics"
   },
   "outputs": [],
   "source": []
  },
  {
   "cell_type": "markdown",
   "id": "73a3b66e",
   "metadata": {
    "deletable": false,
    "editable": false
   },
   "source": [
    "<div style=\"background-color:#EBEBEB\">\n",
    "\n",
    "<span style='background:orange'> **Metric Notifications**</span>   \n",
    "\n",
    "Please update notification details for each metric associated with all performance expectations, preferably using the JSON representation below. Including notifications for each metric and steps/actions expected from recipients of the notifications.\n",
    "\n",
    "| Metric | Nr. | Frequency | Channel | Model Governance Role | TR E-Mail Address | Tool (AI Platform or specify custom solution) | Action/Next steps by recipient |\n",
    "| --- | --- | --- | --- | --- | --- | --- | --- |\n",
    "| `metric_id1` | 1 | `metric_id1_freq1` | `metric_id1_channel1`  | `metric_id1_role1` |\t`metric_id1_email1` |\t`metric_id1_tool1` |\t`metric_id1_action1` |\t\t\t\t\t\t\n",
    "| `metric_id1` | 2 | `metric_id1_freq2` | `metric_id1_channel2` |\t`metric_id1_role2` | `metric_id1_email2` |\t`metric_id1_tool2` |\t`metric_id1_action2` |\t\t\t\t\t\n",
    "| `metric_id2` | 1 | `metric_id2_freq1` | `metric_id2_channel1` |\t`metric_id2_role1` | `metric_id2_email1` |\t`metric_id2_tool1` |\t`metric_id2_action1` |\n",
    "| ... |... |... |... |... |... |... |... |\n",
    "\n",
    "\n",
    "Where: \n",
    "* *Metric*: Name of the chosen metric (e.g., accuracy, recall). Please use the same name as used for the *Metric Definitions and Thresholds* JSON representation above.\n",
    "* *Frequency*: By default this takes the last delta of data (from previous run). Examples include: Immediate, Daily, Weekly.\n",
    "* *Channel*:  Channel where notifications are sent. Examples include: Email, Application pop-up, SMS.\n",
    "* *Model Governance Role*:  Role for Model Governance operations. Options include: Executive Sponsor, Model Owner, Model Usage Contact, Model Developer, Model Steward.\n",
    "* *TR E-Mail Address*:  Individual(s) who will receive notifications. In case of multiple individuals, please separate the email addresses via ';'.\n",
    "* *Tool*: Service, tool, or methodology used to perform the monitoring job. Examples include: Manual, AI Platform.\n",
    "* *Action/Next steps by recipient*: Steps and actions that will be taken when threshold is breached. Examples include: Usage contact informing the Model Owner, retrain, stop usage, change of algorithm.\n",
    "\n",
    "An example JSON representation is shown below.\n",
    "```\n",
    "{\n",
    "  \"model_name\": \"model_name_from_registry\",\n",
    "  \"version_tag\": \"version_tag_from_registry\",\n",
    "  \"notifications\":[\n",
    "    {\n",
    "      \"metric\": \"accuracy\",\n",
    "      \"frequency\": \"Daily\",\n",
    "      \"channel\": \"E-mail\",\n",
    "      \"model_gov_role\": \"Model Developer\",\n",
    "      \"email_id\": \"model.developer@tr.com\",\n",
    "      \"tool\": \"AI Platform\",\n",
    "      \"action\": \"...\"\n",
    "    },\n",
    "    {\n",
    "      \"metric\": \"accuracy\",\n",
    "      \"frequency\": \"Monthly\",\n",
    "      \"channel\": \"E-mail\",\n",
    "      \"model_gov_role\": \"Model Owner\",\n",
    "      \"email_id\": \"model.owner@tr.com\",\n",
    "      \"tool\": \"AI Platform\",\n",
    "      \"action\": \"...\"\n",
    "    },\n",
    "    {\n",
    "      \"metric\": \"recall\",\n",
    "      \"frequency\": \"Monthly\",\n",
    "      \"channel\": \"SMS\",\n",
    "      \"model_gov_role\": \"Executive Sponsor\",\n",
    "      \"email_id\": \"exec.sponsor@tr.com\",\n",
    "      \"tool\": \"Manual\",\n",
    "      \"action\": \"...\"\n",
    "    },\n",
    "  ]\n",
    "}    \n",
    "    \n",
    "```\n",
    "    \n",
    "    \n",
    "<div style=\"text-align: right; font-style:italic\"> (tag: monitoring_notification) </div>"
   ]
  },
  {
   "cell_type": "code",
   "execution_count": null,
   "id": "749b1e00",
   "metadata": {
    "section_id": "montioring_notification"
   },
   "outputs": [],
   "source": []
  },
  {
   "cell_type": "code",
   "execution_count": null,
   "id": "49e03630",
   "metadata": {
    "section_id": "monitoring_notification"
   },
   "outputs": [],
   "source": []
  },
  {
   "cell_type": "markdown",
   "id": "0a3c003a",
   "metadata": {
    "deletable": false,
    "editable": false
   },
   "source": [
    "***"
   ]
  },
  {
   "cell_type": "markdown",
   "id": "0eeaf078",
   "metadata": {
    "deletable": false,
    "editable": false
   },
   "source": [
    "## 10. Appendix <a class=\"anchor\" id=\"appendix\"></a>"
   ]
  },
  {
   "cell_type": "markdown",
   "id": "3fb98857",
   "metadata": {
    "deletable": false,
    "editable": false
   },
   "source": [
    "<div style=\"background-color:#EBEBEB\">\n",
    "Please include any additional information in this section.\n",
    "<div style=\"text-align: right; font-style:italic\"> (tag: appendix) </div>"
   ]
  },
  {
   "cell_type": "code",
   "execution_count": null,
   "id": "95d04b5f",
   "metadata": {
    "section_id": "appendix"
   },
   "outputs": [],
   "source": []
  },
  {
   "cell_type": "code",
   "execution_count": null,
   "id": "1fd6b789",
   "metadata": {
    "section_id": "appendix"
   },
   "outputs": [],
   "source": []
  }
 ],
 "metadata": {
  "celltoolbar": "Edit Metadata",
  "kernelspec": {
   "display_name": "Python 3 (ipykernel)",
   "language": "python",
   "name": "python3"
  },
  "language_info": {
   "codemirror_mode": {
    "name": "ipython",
    "version": 3
   },
   "file_extension": ".py",
   "mimetype": "text/x-python",
   "name": "python",
   "nbconvert_exporter": "python",
   "pygments_lexer": "ipython3",
   "version": "3.10.6"
  },
  "vscode": {
   "interpreter": {
    "hash": "aee8b7b246df8f9039afb4144a1f6fd8d2ca17a180786b69acc140d282b71a49"
   }
  }
 },
 "nbformat": 4,
 "nbformat_minor": 5
}
